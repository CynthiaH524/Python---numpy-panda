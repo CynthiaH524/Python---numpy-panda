{
  "nbformat": 4,
  "nbformat_minor": 0,
  "metadata": {
    "colab": {
      "name": "Copy of Homework2.ipynb",
      "provenance": [],
      "collapsed_sections": []
    },
    "kernelspec": {
      "name": "python3",
      "display_name": "Python 3"
    }
  },
  "cells": [
    {
      "cell_type": "markdown",
      "metadata": {
        "id": "bNsIruOzI4iF"
      },
      "source": [
        "## **Homework 2**\n",
        "\n",
        "### Create a copy of the notebook to start answering the questions. Name your notebook in the format HW2_lastname_firstname.ipynb to facilitate the grading process. \n",
        "\n",
        "### Answer all the questions, test your code to ensure there are no errors and the results are as expected. Once you have answered all the questions, save the final copy, then go to File-> click on Download.ipynb. Once the local copy has been downloaded, submit your file on Blackboard under the corresponding assignment section. Also provide us a link to your notebook during submission. \n",
        "\n",
        "### **The due date of this homework is 02/12/2021 (Friday).**\n",
        "\n",
        "### Please ensure you follow all the steps mentioned in the homework.\n",
        "\n",
        "### All the questions have a sample input and output to help you understand the question.\n",
        "\n",
        "### You can submit your solutions any number of times until the deadline.\n"
      ]
    },
    {
      "cell_type": "markdown",
      "metadata": {
        "id": "U3Yz3s2uio1F"
      },
      "source": [
        "**Q1. Lets consider your data is like the below cell:**\n",
        "\n",
        "**Q1-1**: Write a program that create a dataframe from the data.\n",
        "\n",
        "**Q1-2:** Select people that are psychologist or teacher and their number of cars is greater than their family size.\n",
        "\n",
        "**Q1-3:** Select people who have at most 2 family members and at least 1 car.\n",
        "\n",
        "**Q1-4:** Write a code that get number of unique jobs in this dataset.\n",
        "\n",
        "\n",
        "\n"
      ]
    },
    {
      "cell_type": "code",
      "metadata": {
        "id": "yR8lcOtcjxXD"
      },
      "source": [
        "data = {\"name\": [\"Joseph\", \"Jacob\", \"Sam\", \"Jesee\", \"Ryan\", \"Lisa\", \"Lee\"],\n",
        "        \"job\": [\"teacher\", \"psychologist\", \"data scientist\", \"software developer\", \"psychologist\", \"psychologist\", \"teacher\"],\n",
        "        \"family_size\": [3, 2, 1, 4, 2, 3, 2],\n",
        "        \"num_cars\": [3, 1, 1, 2, 2, 4, 1]}"
      ],
      "execution_count": null,
      "outputs": []
    },
    {
      "cell_type": "code",
      "metadata": {
        "id": "Youi5qMaP34p"
      },
      "source": [
        "import pandas as pd\n",
        "import numpy as np\n",
        "\n",
        "# Q1-1\n",
        "df = pd.DataFrame(data)\n",
        "print(\"Q1-1\\n\", df)\n",
        "# Q1-2\n",
        "psyORt = df.loc[np.logical_or(df.job==\"teacher\", df.job ==\"psychologist\"), :]\n",
        "psyORtCars = psyORt.loc[df.num_cars > df.family_size, :]\n",
        "print(df)\n",
        "print(\"\\nQ1-2\\n\", psyORtCars)\n",
        "# Q1-3\n",
        "famMem = df.loc[df.family_size<=2,:]\n",
        "famMem1Car = famMem.loc[df.num_cars>=1,:]\n",
        "print(\"\\nQ1-3\\n\", famMem1Car)\n",
        "# Q1-4\n",
        "print('\\nQ1-4\\nunique jobs:', len(df.job.unique()))"
      ],
      "execution_count": null,
      "outputs": []
    },
    {
      "cell_type": "markdown",
      "metadata": {
        "id": "Ow6nG8k4l91X"
      },
      "source": [
        "**Q2. Lets consider you have two series like the below cell. Compute the mean of weights of each fruit.**"
      ]
    },
    {
      "cell_type": "code",
      "metadata": {
        "id": "u-X_DoOzVLLB"
      },
      "source": [
        "import numpy as np\n",
        "fruit = pd.Series(np.random.choice(['apple', 'banana', 'carrot'], 10))\n",
        "weights = pd.Series(np.linspace(1, 10, 10))"
      ],
      "execution_count": null,
      "outputs": []
    },
    {
      "cell_type": "code",
      "metadata": {
        "id": "S419nzYnpU__",
        "colab": {
          "base_uri": "https://localhost:8080/"
        },
        "outputId": "553beccd-d500-45f3-af05-e489f26eb428"
      },
      "source": [
        "data = {'fruit': fruit, 'weights': weights}\n",
        "df = pd.DataFrame(data)\n",
        "for f in df.fruit.unique():\n",
        "  meanWeight = np.mean(weights)\n",
        "  print(f, meanWeight)"
      ],
      "execution_count": null,
      "outputs": [
        {
          "output_type": "stream",
          "text": [
            "banana 5.5\n",
            "carrot 5.5\n",
            "apple 5.5\n"
          ],
          "name": "stdout"
        }
      ]
    },
    {
      "cell_type": "markdown",
      "metadata": {
        "id": "g4lKaPIhtVrt"
      },
      "source": [
        "**Q3. Consider the below course_name array:**\n",
        "\n",
        "**Q3-1**: Write a NumPy program to get the indices of the sorted elements of **course_name** array.\n",
        "\n",
        "**Q3-2:** Write numpy code to check whether each element of **course_name** array starts with \"P\".\n"
      ]
    },
    {
      "cell_type": "code",
      "metadata": {
        "id": "RUP_jp2KtVrx"
      },
      "source": [
        "import numpy as np\n",
        "course_name = np.array(['Python', 'JS', 'examples', 'PHP', 'html'])"
      ],
      "execution_count": 9,
      "outputs": []
    },
    {
      "cell_type": "code",
      "metadata": {
        "id": "U1i27POxv-o_",
        "colab": {
          "base_uri": "https://localhost:8080/"
        },
        "outputId": "84bce361-2d36-4e52-e652-9a6fcb98d707"
      },
      "source": [
        "# Q3-1\n",
        "sortedC = np.sort(course_name)\n",
        "for i in sortedC:\n",
        "  print(np.where(course_name == i))\n",
        "\n",
        "\n",
        "# Q3-2\n",
        "for i in course_name:\n",
        "  nameList = list(i)\n",
        "  haveORnot = nameList[0]=='P'\n",
        "  if haveORnot:\n",
        "    print(i, \"starts with \\'P\\'\")\n",
        "  else:\n",
        "    print(i, \"doesn't start with \\'P\\'\")"
      ],
      "execution_count": 26,
      "outputs": [
        {
          "output_type": "stream",
          "text": [
            "(array([1]),)\n",
            "(array([3]),)\n",
            "(array([0]),)\n",
            "(array([2]),)\n",
            "(array([4]),)\n",
            "Python starts with 'P'\n",
            "JS doesn't start with 'P'\n",
            "examples doesn't start with 'P'\n",
            "PHP starts with 'P'\n",
            "html doesn't start with 'P'\n"
          ],
          "name": "stdout"
        }
      ]
    },
    {
      "cell_type": "markdown",
      "metadata": {
        "id": "sUFItNFOxwkz"
      },
      "source": [
        "**Q4. Consider the below student_id array:**\n",
        "\n",
        "**Q4-1:** Reverse the **student_id** array. Print both original and reversed array.\n",
        "\n",
        "**Q4-2:** Get the 3-largest values of **student_id** array."
      ]
    },
    {
      "cell_type": "code",
      "metadata": {
        "id": "Rl5qzEjFv0nw"
      },
      "source": [
        "import numpy as np\n",
        "student_id = np.array([1023, 5202, 6230, 1671, 1682, 5241, 4532])"
      ],
      "execution_count": null,
      "outputs": []
    },
    {
      "cell_type": "code",
      "metadata": {
        "id": "EetvHGrUxMCC",
        "colab": {
          "base_uri": "https://localhost:8080/"
        },
        "outputId": "d7995b49-b2d5-48bd-89bd-0ede5cc7b7df"
      },
      "source": [
        "# Q4-1\n",
        "print('original:', student_id,'reversed:',  np.flip(student_id))\n",
        "# Q4-2\n",
        "print('\\n3-largest values:', sorted(student_id, reverse=True)[:3])"
      ],
      "execution_count": null,
      "outputs": [
        {
          "output_type": "stream",
          "text": [
            "original: [1023 5202 6230 1671 1682 5241 4532] reversed: [4532 5241 1682 1671 6230 5202 1023]\n",
            "\n",
            "3-largest values: [6230, 5241, 5202]\n"
          ],
          "name": "stdout"
        }
      ]
    },
    {
      "cell_type": "markdown",
      "metadata": {
        "id": "uKRyDVuW6B19"
      },
      "source": [
        "# **Q5: Write a numpy program to print sum of all the multiples of 3 or 5 below 100**"
      ]
    },
    {
      "cell_type": "code",
      "metadata": {
        "id": "ZIixq1gz6OK3",
        "colab": {
          "base_uri": "https://localhost:8080/"
        },
        "outputId": "ffbf1e95-d54d-46e2-9683-30b6183e77c7"
      },
      "source": [
        "multiples3 = np.arange(3, 100, 3)\n",
        "sumMul3 = np.sum(multiples3)\n",
        "multiples5 = np.arange(5, 100, 5)\n",
        "sumMul5 = np.sum(multiples5)\n",
        "multiples = sumMul3 + sumMul5\n",
        "print('sum of all the multiples of 3:', sumMul3)\n",
        "print('sum of all the multiples of 5:', sumMul5)\n",
        "print('sum of all the multiples of 3 or 5 below 100:', multiples)\n",
        "# Hint: you can use arange to start off"
      ],
      "execution_count": 28,
      "outputs": [
        {
          "output_type": "stream",
          "text": [
            "sum of all the multiples of 3: 1683\n",
            "sum of all the multiples of 5: 950\n",
            "sum of all the multiples of 3 or 5 below 100: 2633\n"
          ],
          "name": "stdout"
        }
      ]
    },
    {
      "cell_type": "markdown",
      "metadata": {
        "id": "2CWJOsP24c34"
      },
      "source": [
        "**Q6. Consider the below array.**\n",
        "\n",
        "Q6.1. Write a code to swap column 1 with column 2.\n",
        "\n",
        "Q6.2. Write a code to swap row 0 with row 1."
      ]
    },
    {
      "cell_type": "code",
      "metadata": {
        "id": "3OG6X5Eg5KSM",
        "colab": {
          "base_uri": "https://localhost:8080/"
        },
        "outputId": "92fd4880-5bfb-47ab-91fb-2470751d4989"
      },
      "source": [
        "import numpy as np\n",
        "\n",
        "arr = np.arange(12).reshape(3,4)\n",
        "print(arr)"
      ],
      "execution_count": null,
      "outputs": [
        {
          "output_type": "stream",
          "text": [
            "[[ 0  1  2  3]\n",
            " [ 4  5  6  7]\n",
            " [ 8  9 10 11]]\n"
          ],
          "name": "stdout"
        }
      ]
    },
    {
      "cell_type": "code",
      "metadata": {
        "id": "Q-Q91DpO5YYW",
        "colab": {
          "base_uri": "https://localhost:8080/"
        },
        "outputId": "c2ea0ba1-e773-45a7-ec46-66e4e4a3d04e"
      },
      "source": [
        "# Q6.1.\n",
        "arr[:,[0,1]] = arr[:,[1,0]]\n",
        "print(arr)\n",
        "# Q6.2.\n",
        "arr = np.arange(12).reshape(3,4)\n",
        "arr[[0,1],:] = arr[[1,0], :]\n",
        "print(arr)"
      ],
      "execution_count": null,
      "outputs": [
        {
          "output_type": "stream",
          "text": [
            "[[ 0  1  2  3]\n",
            " [ 4  5  6  7]\n",
            " [ 8  9 10 11]]\n",
            "[[ 4  5  6  7]\n",
            " [ 0  1  2  3]\n",
            " [ 8  9 10 11]]\n"
          ],
          "name": "stdout"
        }
      ]
    }
  ]
}